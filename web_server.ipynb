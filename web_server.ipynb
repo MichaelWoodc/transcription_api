{
 "cells": [
  {
   "cell_type": "code",
   "execution_count": null,
   "id": "f5a1fa52",
   "metadata": {},
   "outputs": [],
   "source": [
    "# Load Whisper\n",
    "import whisper\n",
    "print(\"Loading Whisper model...\")\n",
    "model = whisper.load_model(\"medium\", device=\"cpu\")\n",
    "print(\"Model loaded!\")\n",
    "\n",
    "# FastAPI imports\n",
    "import nest_asyncio, uvicorn\n",
    "from fastapi import FastAPI, File, UploadFile\n",
    "from fastapi.responses import JSONResponse\n",
    "from fastapi.middleware.cors import CORSMiddleware\n",
    "import tempfile\n",
    "from pydub import AudioSegment\n",
    "\n",
    "nest_asyncio.apply()\n",
    "\n",
    "app = FastAPI()\n",
    "app.add_middleware(\n",
    "    CORSMiddleware,\n",
    "    allow_origins=[\"*\"],\n",
    "    allow_methods=[\"*\"],\n",
    "    allow_headers=[\"*\"],\n",
    ")\n",
    "\n",
    "@app.post(\"/transcribe\")\n",
    "async def transcribe_audio(file: UploadFile = File(...)):\n",
    "    try:\n",
    "        suffix = file.filename.split(\".\")[-1] or \".webm\"\n",
    "        with tempfile.NamedTemporaryFile(delete=False, suffix=suffix) as tmp:\n",
    "            tmp.write(await file.read())\n",
    "            tmp_path = tmp.name\n",
    "\n",
    "        # Convert to wav if needed\n",
    "        if suffix.lower() != \"wav\":\n",
    "            wav_path = tmp_path.rsplit(\".\", 1)[0] + \".wav\"\n",
    "            audio = AudioSegment.from_file(tmp_path)\n",
    "            audio.export(wav_path, format=\"wav\")\n",
    "            tmp_path = wav_path\n",
    "\n",
    "        result = model.transcribe(tmp_path, language=\"es\", verbose=False)\n",
    "        import os; os.remove(tmp_path)\n",
    "\n",
    "        return JSONResponse({\"text\": result.get(\"text\", \"\").strip()})\n",
    "    except Exception as e:\n",
    "        return JSONResponse({\"error\": str(e)}, status_code=500)\n",
    "\n",
    "uvicorn.run(app, host=\"0.0.0.0\", port=8000)\n"
   ]
  },
  {
   "cell_type": "code",
   "execution_count": 1,
   "id": "fb90590f",
   "metadata": {},
   "outputs": [
    {
     "name": "stderr",
     "output_type": "stream",
     "text": [
      "/home/mlw19mlw91/Downloads/.venv/lib/python3.12/site-packages/whisper/transcribe.py:126: UserWarning: FP16 is not supported on CPU; using FP32 instead\n",
      "  warnings.warn(\"FP16 is not supported on CPU; using FP32 instead\")\n",
      "100%|██████████| 48/48 [00:04<00:00,  9.68frames/s]"
     ]
    },
    {
     "name": "stdout",
     "output_type": "stream",
     "text": [
      "INFO:     192.168.1.148:33704 - \"POST /transcribe HTTP/1.1\" 200 OK\n"
     ]
    },
    {
     "name": "stderr",
     "output_type": "stream",
     "text": [
      "\n",
      "/home/mlw19mlw91/Downloads/.venv/lib/python3.12/site-packages/whisper/transcribe.py:126: UserWarning: FP16 is not supported on CPU; using FP32 instead\n",
      "  warnings.warn(\"FP16 is not supported on CPU; using FP32 instead\")\n",
      "100%|██████████| 48/48 [00:04<00:00, 10.81frames/s]"
     ]
    },
    {
     "name": "stdout",
     "output_type": "stream",
     "text": [
      "INFO:     192.168.1.148:33714 - \"POST /transcribe HTTP/1.1\" 200 OK\n"
     ]
    },
    {
     "name": "stderr",
     "output_type": "stream",
     "text": [
      "\n",
      "/home/mlw19mlw91/Downloads/.venv/lib/python3.12/site-packages/whisper/transcribe.py:126: UserWarning: FP16 is not supported on CPU; using FP32 instead\n",
      "  warnings.warn(\"FP16 is not supported on CPU; using FP32 instead\")\n",
      "100%|██████████| 48/48 [00:05<00:00,  9.57frames/s]"
     ]
    },
    {
     "name": "stdout",
     "output_type": "stream",
     "text": [
      "INFO:     192.168.1.148:47526 - \"POST /transcribe HTTP/1.1\" 200 OK\n"
     ]
    },
    {
     "name": "stderr",
     "output_type": "stream",
     "text": [
      "\n",
      "/home/mlw19mlw91/Downloads/.venv/lib/python3.12/site-packages/whisper/transcribe.py:126: UserWarning: FP16 is not supported on CPU; using FP32 instead\n",
      "  warnings.warn(\"FP16 is not supported on CPU; using FP32 instead\")\n",
      "100%|██████████| 48/48 [00:18<00:00,  2.55frames/s]"
     ]
    },
    {
     "name": "stdout",
     "output_type": "stream",
     "text": [
      "INFO:     192.168.1.148:47538 - \"POST /transcribe HTTP/1.1\" 200 OK\n"
     ]
    },
    {
     "name": "stderr",
     "output_type": "stream",
     "text": [
      "\n",
      "INFO:     Shutting down\n",
      "INFO:     Waiting for application shutdown.\n",
      "INFO:     Application shutdown complete.\n",
      "INFO:     Finished server process [9591]\n"
     ]
    }
   ],
   "source": [
    "# ------------------------------\n",
    "# FastAPI Whisper Spanish-only API\n",
    "# ------------------------------\n",
    "\n",
    "import whisper\n",
    "import nest_asyncio\n",
    "import uvicorn\n",
    "from fastapi import FastAPI, File, UploadFile\n",
    "from fastapi.responses import JSONResponse\n",
    "from fastapi.middleware.cors import CORSMiddleware\n",
    "import tempfile\n",
    "from pydub import AudioSegment\n",
    "import os\n",
    "\n",
    "# Allow running in Jupyter / notebooks\n",
    "nest_asyncio.apply()\n",
    "\n",
    "# ---------------- Settings ----------------\n",
    "LANGUAGE = \"es\"          # Force Spanish\n",
    "MODEL_SIZE = \"medium\"\n",
    "DEVICE = \"cpu\"\n",
    "SAMPLE_RATE = 44100      # Force 44.1 kHz\n",
    "\n",
    "print(\"Loading Whisper model...\")\n",
    "model = whisper.load_model(MODEL_SIZE, device=DEVICE)\n",
    "print(\"Model loaded!\")\n",
    "\n",
    "# ---------------- FastAPI ----------------\n",
    "app = FastAPI()\n",
    "app.add_middleware(\n",
    "    CORSMiddleware,\n",
    "    allow_origins=[\"*\"],\n",
    "    allow_methods=[\"*\"],\n",
    "    allow_headers=[\"*\"],\n",
    ")\n",
    "\n",
    "@app.post(\"/transcribe\")\n",
    "async def transcribe_audio(file: UploadFile = File(...)):\n",
    "    try:\n",
    "        # Get file suffix\n",
    "        suffix = \".\" + file.filename.split(\".\")[-1] if \".\" in file.filename else \".webm\"\n",
    "\n",
    "        # Save uploaded file temporarily\n",
    "        with tempfile.NamedTemporaryFile(delete=False, suffix=suffix) as tmp:\n",
    "            tmp.write(await file.read())\n",
    "            tmp_path = tmp.name\n",
    "\n",
    "        # Convert to WAV mono 44.1 kHz if needed\n",
    "        if suffix.lower() != \".wav\":\n",
    "            wav_path = tmp_path.rsplit(\".\", 1)[0] + \".wav\"\n",
    "            audio = AudioSegment.from_file(tmp_path).set_channels(1).set_frame_rate(SAMPLE_RATE)\n",
    "            audio.export(wav_path, format=\"wav\")\n",
    "            tmp_path = wav_path\n",
    "\n",
    "        # Transcribe forcing Spanish\n",
    "        result = model.transcribe(tmp_path, language=LANGUAGE, task=\"transcribe\", verbose=False)\n",
    "\n",
    "        # Clean up temporary file\n",
    "        try:\n",
    "            os.remove(tmp_path)\n",
    "        except:\n",
    "            pass\n",
    "\n",
    "        return JSONResponse({\"text\": result.get(\"text\", \"\").strip()})\n",
    "\n",
    "    except Exception as e:\n",
    "        return JSONResponse({\"error\": str(e)}, status_code=500)\n",
    "\n",
    "# ---------------- Run Server ----------------\n",
    "if __name__ == \"__main__\":\n",
    "    uvicorn.run(app, host=\"0.0.0.0\", port=8000)"
   ]
  }
 ],
 "metadata": {
  "kernelspec": {
   "display_name": ".venv (3.12.3)",
   "language": "python",
   "name": "python3"
  },
  "language_info": {
   "codemirror_mode": {
    "name": "ipython",
    "version": 3
   },
   "file_extension": ".py",
   "mimetype": "text/x-python",
   "name": "python",
   "nbconvert_exporter": "python",
   "pygments_lexer": "ipython3",
   "version": "3.12.3"
  }
 },
 "nbformat": 4,
 "nbformat_minor": 5
}
